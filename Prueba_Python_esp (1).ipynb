{
 "cells": [
  {
   "cell_type": "markdown",
   "metadata": {
    "id": "MEIWZB0ifyRp"
   },
   "source": [
    "# Prueba Python"
   ]
  },
  {
   "cell_type": "markdown",
   "metadata": {},
   "source": [
    "### Desarrolle la prueba en un cuaderno de jupyter o colab, tenga en cuenta el tiempo dado para esta y sea lo más claro y simple que pueda, recuerde que a veces más es menos"
   ]
  },
  {
   "cell_type": "markdown",
   "metadata": {
    "id": "W69Av-Dxr-Pj"
   },
   "source": [
    "## Contexto"
   ]
  },
  {
   "cell_type": "markdown",
   "metadata": {
    "id": "oWOuZAqNgM7b"
   },
   "source": [
    "Dentro de la tabla en formato Json usted encontrará información sobre el comportamiento de creditos desembolsados a un grupo de clientes:\n",
    "\n",
    "1. *ID_Credit:* Identificador de crédito\n",
    "2. *LoanDate:* Fecha de desembolso\n",
    "3. *B_M:* Flag Indicativo si el crédito es incumplido \"1\" o no \"0\"\n",
    "4. *City:* Ciudad de solicitud del crédito\n",
    "5. *age:* Edad del solicitante\n",
    "6. *Time_experience:* Años de experiencia en la actividad del solicitante\n",
    "7. *Activity:* Actividad del solicitante\n",
    "8. *BankingExp:* Flag indicativo de si el cliente tiene \"S\" o no \"N\" experiencia financiera\n",
    "9. *OtherIncome:* Flag indicativo si el cliente tiene ingresos adicionales \"S\" o no \"N\"\n",
    "10. *SectBalance:* Saldo vigente con el sector financiero\n",
    "11. *Exp:* Valor de los gastos mensuales del cliente\n",
    "12. *Income:* Valor de los ingresos mensuales del cliente\n",
    "13. *Delincuency_Hist:* Cantidad de moras históricas del cliente\n",
    "14. *totmou*: Total de minutos usados por el cliente\n",
    "\n",
    "Con la información suministrada, y teniendo en cuenta que el objetivo es generar una clasificación entre los clientes cumplidos e incumplidos, debe:\n"
   ]
  },
  {
   "cell_type": "code",
   "execution_count": 25,
   "metadata": {},
   "outputs": [],
   "source": [
    "import pandas as pd\n",
    "import json\n",
    "            \n",
    "with open('BD_Credito.json') as f:  \n",
    "      data = json.load(f)\n"
   ]
  },
  {
   "cell_type": "code",
   "execution_count": 26,
   "metadata": {},
   "outputs": [
    {
     "data": {
      "text/html": [
       "<div>\n",
       "<style scoped>\n",
       "    .dataframe tbody tr th:only-of-type {\n",
       "        vertical-align: middle;\n",
       "    }\n",
       "\n",
       "    .dataframe tbody tr th {\n",
       "        vertical-align: top;\n",
       "    }\n",
       "\n",
       "    .dataframe thead th {\n",
       "        text-align: right;\n",
       "    }\n",
       "</style>\n",
       "<table border=\"1\" class=\"dataframe\">\n",
       "  <thead>\n",
       "    <tr style=\"text-align: right;\">\n",
       "      <th></th>\n",
       "      <th>ID_Credit</th>\n",
       "      <th>Customer_ID</th>\n",
       "      <th>LoanDate</th>\n",
       "      <th>B_M</th>\n",
       "      <th>City</th>\n",
       "      <th>age</th>\n",
       "      <th>Time_experience</th>\n",
       "      <th>Activity</th>\n",
       "      <th>BankingExp</th>\n",
       "      <th>OtherIncome</th>\n",
       "      <th>SectBalance</th>\n",
       "      <th>Exp</th>\n",
       "      <th>Income</th>\n",
       "      <th>Delincuency_Hist</th>\n",
       "    </tr>\n",
       "  </thead>\n",
       "  <tbody>\n",
       "    <tr>\n",
       "      <th>0</th>\n",
       "      <td>1</td>\n",
       "      <td>1082423</td>\n",
       "      <td>2016-11-25</td>\n",
       "      <td>1</td>\n",
       "      <td>ATLANTHIC SOUTH</td>\n",
       "      <td>32</td>\n",
       "      <td>20</td>\n",
       "      <td>Empleado</td>\n",
       "      <td>N</td>\n",
       "      <td>S</td>\n",
       "      <td>8000</td>\n",
       "      <td>590.0</td>\n",
       "      <td>1250.0</td>\n",
       "      <td>1</td>\n",
       "    </tr>\n",
       "    <tr>\n",
       "      <th>1</th>\n",
       "      <td>2</td>\n",
       "      <td>1069232</td>\n",
       "      <td>2020-05-28</td>\n",
       "      <td>1</td>\n",
       "      <td>ATLANTHIC SOUTH</td>\n",
       "      <td>29</td>\n",
       "      <td>20</td>\n",
       "      <td>Pensionado</td>\n",
       "      <td>S</td>\n",
       "      <td>S</td>\n",
       "      <td>7500</td>\n",
       "      <td>733.0</td>\n",
       "      <td>1500.0</td>\n",
       "      <td>0</td>\n",
       "    </tr>\n",
       "    <tr>\n",
       "      <th>2</th>\n",
       "      <td>3</td>\n",
       "      <td>1031705</td>\n",
       "      <td>2016-06-25</td>\n",
       "      <td>1</td>\n",
       "      <td>ATLANTHIC SOUTH</td>\n",
       "      <td>67</td>\n",
       "      <td>20</td>\n",
       "      <td>Empleado</td>\n",
       "      <td>S</td>\n",
       "      <td>S</td>\n",
       "      <td>5000</td>\n",
       "      <td>300.0</td>\n",
       "      <td>1000.0</td>\n",
       "      <td>3</td>\n",
       "    </tr>\n",
       "    <tr>\n",
       "      <th>3</th>\n",
       "      <td>4</td>\n",
       "      <td>1089806</td>\n",
       "      <td>2018-06-09</td>\n",
       "      <td>0</td>\n",
       "      <td>NEW ENGALND</td>\n",
       "      <td>30</td>\n",
       "      <td>20</td>\n",
       "      <td>Empleado</td>\n",
       "      <td>S</td>\n",
       "      <td>S</td>\n",
       "      <td>2200</td>\n",
       "      <td>500.0</td>\n",
       "      <td>1600.0</td>\n",
       "      <td>2</td>\n",
       "    </tr>\n",
       "    <tr>\n",
       "      <th>4</th>\n",
       "      <td>5</td>\n",
       "      <td>1076695</td>\n",
       "      <td>2018-01-06</td>\n",
       "      <td>1</td>\n",
       "      <td>NEW ENGALND</td>\n",
       "      <td>62</td>\n",
       "      <td>30.33333333</td>\n",
       "      <td>Empleado</td>\n",
       "      <td>S</td>\n",
       "      <td>S</td>\n",
       "      <td>7500</td>\n",
       "      <td>500.0</td>\n",
       "      <td>1926.0</td>\n",
       "      <td>0</td>\n",
       "    </tr>\n",
       "  </tbody>\n",
       "</table>\n",
       "</div>"
      ],
      "text/plain": [
       "   ID_Credit  Customer_ID    LoanDate  B_M             City age  \\\n",
       "0          1      1082423  2016-11-25    1  ATLANTHIC SOUTH  32   \n",
       "1          2      1069232  2020-05-28    1  ATLANTHIC SOUTH  29   \n",
       "2          3      1031705  2016-06-25    1  ATLANTHIC SOUTH  67   \n",
       "3          4      1089806  2018-06-09    0      NEW ENGALND  30   \n",
       "4          5      1076695  2018-01-06    1      NEW ENGALND  62   \n",
       "\n",
       "  Time_experience    Activity BankingExp OtherIncome  SectBalance    Exp  \\\n",
       "0              20    Empleado          N           S         8000  590.0   \n",
       "1              20  Pensionado          S           S         7500  733.0   \n",
       "2              20    Empleado          S           S         5000  300.0   \n",
       "3              20    Empleado          S           S         2200  500.0   \n",
       "4     30.33333333    Empleado          S           S         7500  500.0   \n",
       "\n",
       "   Income  Delincuency_Hist  \n",
       "0  1250.0                 1  \n",
       "1  1500.0                 0  \n",
       "2  1000.0                 3  \n",
       "3  1600.0                 2  \n",
       "4  1926.0                 0  "
      ]
     },
     "execution_count": 26,
     "metadata": {},
     "output_type": "execute_result"
    }
   ],
   "source": [
    "data = pd.read_excel('BD_Credito (1).xlsx')\n",
    "data.head()"
   ]
  },
  {
   "cell_type": "markdown",
   "metadata": {},
   "source": [
    "## Parte 1\n",
    "\n",
    "Perfile los clientes, a partir de este perfilamiento, identifique las principales diferencias entre los tipos de clientes. Suministre los análisis, resultados y demás elementos que considere pertinentes."
   ]
  },
  {
   "cell_type": "code",
   "execution_count": 35,
   "metadata": {},
   "outputs": [],
   "source": [
    "import pandas as pd\n",
    "import matplotlib.pyplot as plt\n",
    "%matplotlib inline"
   ]
  },
  {
   "cell_type": "markdown",
   "metadata": {},
   "source": [
    "Para el perfilamiento del los clientes se tendran encuenta 5 varialbes que se conisderan las mas importantes y son *B_M*,   *BankingExp* , *Activity* , *Delincuency_Hist* , *SectBalance* ya que pueden ser las que esten dando mayor información sobre la perfilación con respecto a cada ciudad."
   ]
  },
  {
   "cell_type": "code",
   "execution_count": 45,
   "metadata": {},
   "outputs": [],
   "source": [
    "data_1=data[[\"City\",'B_M','BankingExp',\"Delincuency_Hist\",\"Activity\",\"SectBalance\"]]"
   ]
  },
  {
   "cell_type": "code",
   "execution_count": 47,
   "metadata": {},
   "outputs": [
    {
     "name": "stdout",
     "output_type": "stream",
     "text": [
      "<class 'pandas.core.frame.DataFrame'>\n",
      "RangeIndex: 5197 entries, 0 to 5196\n",
      "Data columns (total 6 columns):\n",
      " #   Column            Non-Null Count  Dtype \n",
      "---  ------            --------------  ----- \n",
      " 0   City              5197 non-null   object\n",
      " 1   B_M               5197 non-null   int64 \n",
      " 2   BankingExp        5197 non-null   object\n",
      " 3   Delincuency_Hist  5197 non-null   int64 \n",
      " 4   Activity          5197 non-null   object\n",
      " 5   SectBalance       5197 non-null   int64 \n",
      "dtypes: int64(3), object(3)\n",
      "memory usage: 243.7+ KB\n"
     ]
    }
   ],
   "source": [
    "data_1.info()"
   ]
  },
  {
   "cell_type": "code",
   "execution_count": 192,
   "metadata": {},
   "outputs": [
    {
     "data": {
      "text/html": [
       "<div>\n",
       "<style scoped>\n",
       "    .dataframe tbody tr th:only-of-type {\n",
       "        vertical-align: middle;\n",
       "    }\n",
       "\n",
       "    .dataframe tbody tr th {\n",
       "        vertical-align: top;\n",
       "    }\n",
       "\n",
       "    .dataframe thead th {\n",
       "        text-align: right;\n",
       "    }\n",
       "</style>\n",
       "<table border=\"1\" class=\"dataframe\">\n",
       "  <thead>\n",
       "    <tr style=\"text-align: right;\">\n",
       "      <th></th>\n",
       "      <th>ID_Credit</th>\n",
       "      <th>Customer_ID</th>\n",
       "      <th>B_M</th>\n",
       "      <th>SectBalance</th>\n",
       "      <th>Exp</th>\n",
       "      <th>Income</th>\n",
       "      <th>Delincuency_Hist</th>\n",
       "    </tr>\n",
       "  </thead>\n",
       "  <tbody>\n",
       "    <tr>\n",
       "      <th>ID_Credit</th>\n",
       "      <td>1.000000</td>\n",
       "      <td>-0.014481</td>\n",
       "      <td>0.011567</td>\n",
       "      <td>-0.018807</td>\n",
       "      <td>-0.013957</td>\n",
       "      <td>-0.012982</td>\n",
       "      <td>0.006688</td>\n",
       "    </tr>\n",
       "    <tr>\n",
       "      <th>Customer_ID</th>\n",
       "      <td>-0.014481</td>\n",
       "      <td>1.000000</td>\n",
       "      <td>-0.007133</td>\n",
       "      <td>0.001808</td>\n",
       "      <td>0.019823</td>\n",
       "      <td>0.010620</td>\n",
       "      <td>-0.004964</td>\n",
       "    </tr>\n",
       "    <tr>\n",
       "      <th>B_M</th>\n",
       "      <td>0.011567</td>\n",
       "      <td>-0.007133</td>\n",
       "      <td>1.000000</td>\n",
       "      <td>0.016763</td>\n",
       "      <td>-0.015575</td>\n",
       "      <td>0.000903</td>\n",
       "      <td>-0.017245</td>\n",
       "    </tr>\n",
       "    <tr>\n",
       "      <th>SectBalance</th>\n",
       "      <td>-0.018807</td>\n",
       "      <td>0.001808</td>\n",
       "      <td>0.016763</td>\n",
       "      <td>1.000000</td>\n",
       "      <td>0.075346</td>\n",
       "      <td>0.198274</td>\n",
       "      <td>-0.011456</td>\n",
       "    </tr>\n",
       "    <tr>\n",
       "      <th>Exp</th>\n",
       "      <td>-0.013957</td>\n",
       "      <td>0.019823</td>\n",
       "      <td>-0.015575</td>\n",
       "      <td>0.075346</td>\n",
       "      <td>1.000000</td>\n",
       "      <td>0.318911</td>\n",
       "      <td>0.002081</td>\n",
       "    </tr>\n",
       "    <tr>\n",
       "      <th>Income</th>\n",
       "      <td>-0.012982</td>\n",
       "      <td>0.010620</td>\n",
       "      <td>0.000903</td>\n",
       "      <td>0.198274</td>\n",
       "      <td>0.318911</td>\n",
       "      <td>1.000000</td>\n",
       "      <td>0.019080</td>\n",
       "    </tr>\n",
       "    <tr>\n",
       "      <th>Delincuency_Hist</th>\n",
       "      <td>0.006688</td>\n",
       "      <td>-0.004964</td>\n",
       "      <td>-0.017245</td>\n",
       "      <td>-0.011456</td>\n",
       "      <td>0.002081</td>\n",
       "      <td>0.019080</td>\n",
       "      <td>1.000000</td>\n",
       "    </tr>\n",
       "  </tbody>\n",
       "</table>\n",
       "</div>"
      ],
      "text/plain": [
       "                  ID_Credit  Customer_ID       B_M  SectBalance       Exp  \\\n",
       "ID_Credit          1.000000    -0.014481  0.011567    -0.018807 -0.013957   \n",
       "Customer_ID       -0.014481     1.000000 -0.007133     0.001808  0.019823   \n",
       "B_M                0.011567    -0.007133  1.000000     0.016763 -0.015575   \n",
       "SectBalance       -0.018807     0.001808  0.016763     1.000000  0.075346   \n",
       "Exp               -0.013957     0.019823 -0.015575     0.075346  1.000000   \n",
       "Income            -0.012982     0.010620  0.000903     0.198274  0.318911   \n",
       "Delincuency_Hist   0.006688    -0.004964 -0.017245    -0.011456  0.002081   \n",
       "\n",
       "                    Income  Delincuency_Hist  \n",
       "ID_Credit        -0.012982          0.006688  \n",
       "Customer_ID       0.010620         -0.004964  \n",
       "B_M               0.000903         -0.017245  \n",
       "SectBalance       0.198274         -0.011456  \n",
       "Exp               0.318911          0.002081  \n",
       "Income            1.000000          0.019080  \n",
       "Delincuency_Hist  0.019080          1.000000  "
      ]
     },
     "execution_count": 192,
     "metadata": {},
     "output_type": "execute_result"
    }
   ],
   "source": [
    "data.corr()"
   ]
  },
  {
   "cell_type": "code",
   "execution_count": 205,
   "metadata": {},
   "outputs": [
    {
     "data": {
      "text/html": [
       "<div>\n",
       "<style scoped>\n",
       "    .dataframe tbody tr th:only-of-type {\n",
       "        vertical-align: middle;\n",
       "    }\n",
       "\n",
       "    .dataframe tbody tr th {\n",
       "        vertical-align: top;\n",
       "    }\n",
       "\n",
       "    .dataframe thead th {\n",
       "        text-align: right;\n",
       "    }\n",
       "</style>\n",
       "<table border=\"1\" class=\"dataframe\">\n",
       "  <thead>\n",
       "    <tr style=\"text-align: right;\">\n",
       "      <th></th>\n",
       "      <th>Activity</th>\n",
       "    </tr>\n",
       "  </thead>\n",
       "  <tbody>\n",
       "    <tr>\n",
       "      <th>Pensionado</th>\n",
       "      <td>1765</td>\n",
       "    </tr>\n",
       "    <tr>\n",
       "      <th>Empleado</th>\n",
       "      <td>1718</td>\n",
       "    </tr>\n",
       "    <tr>\n",
       "      <th>independiente</th>\n",
       "      <td>1714</td>\n",
       "    </tr>\n",
       "  </tbody>\n",
       "</table>\n",
       "</div>"
      ],
      "text/plain": [
       "               Activity\n",
       "Pensionado         1765\n",
       "Empleado           1718\n",
       "independiente      1714"
      ]
     },
     "execution_count": 205,
     "metadata": {},
     "output_type": "execute_result"
    }
   ],
   "source": [
    "data['Activity'].value_counts().to_frame()"
   ]
  },
  {
   "cell_type": "code",
   "execution_count": 206,
   "metadata": {},
   "outputs": [
    {
     "data": {
      "text/html": [
       "<div>\n",
       "<style scoped>\n",
       "    .dataframe tbody tr th:only-of-type {\n",
       "        vertical-align: middle;\n",
       "    }\n",
       "\n",
       "    .dataframe tbody tr th {\n",
       "        vertical-align: top;\n",
       "    }\n",
       "\n",
       "    .dataframe thead th {\n",
       "        text-align: right;\n",
       "    }\n",
       "</style>\n",
       "<table border=\"1\" class=\"dataframe\">\n",
       "  <thead>\n",
       "    <tr style=\"text-align: right;\">\n",
       "      <th></th>\n",
       "      <th>BankingExp</th>\n",
       "    </tr>\n",
       "  </thead>\n",
       "  <tbody>\n",
       "    <tr>\n",
       "      <th>S</th>\n",
       "      <td>3787</td>\n",
       "    </tr>\n",
       "    <tr>\n",
       "      <th>N</th>\n",
       "      <td>1410</td>\n",
       "    </tr>\n",
       "  </tbody>\n",
       "</table>\n",
       "</div>"
      ],
      "text/plain": [
       "   BankingExp\n",
       "S        3787\n",
       "N        1410"
      ]
     },
     "execution_count": 206,
     "metadata": {},
     "output_type": "execute_result"
    }
   ],
   "source": [
    "data['BankingExp'].value_counts().to_frame()"
   ]
  },
  {
   "cell_type": "code",
   "execution_count": 207,
   "metadata": {},
   "outputs": [
    {
     "data": {
      "text/html": [
       "<div>\n",
       "<style scoped>\n",
       "    .dataframe tbody tr th:only-of-type {\n",
       "        vertical-align: middle;\n",
       "    }\n",
       "\n",
       "    .dataframe tbody tr th {\n",
       "        vertical-align: top;\n",
       "    }\n",
       "\n",
       "    .dataframe thead th {\n",
       "        text-align: right;\n",
       "    }\n",
       "</style>\n",
       "<table border=\"1\" class=\"dataframe\">\n",
       "  <thead>\n",
       "    <tr style=\"text-align: right;\">\n",
       "      <th></th>\n",
       "      <th>B_M</th>\n",
       "    </tr>\n",
       "  </thead>\n",
       "  <tbody>\n",
       "    <tr>\n",
       "      <th>0</th>\n",
       "      <td>2627</td>\n",
       "    </tr>\n",
       "    <tr>\n",
       "      <th>1</th>\n",
       "      <td>2570</td>\n",
       "    </tr>\n",
       "  </tbody>\n",
       "</table>\n",
       "</div>"
      ],
      "text/plain": [
       "    B_M\n",
       "0  2627\n",
       "1  2570"
      ]
     },
     "execution_count": 207,
     "metadata": {},
     "output_type": "execute_result"
    }
   ],
   "source": [
    "data['B_M'].value_counts().to_frame()"
   ]
  },
  {
   "cell_type": "code",
   "execution_count": 215,
   "metadata": {},
   "outputs": [
    {
     "data": {
      "text/html": [
       "<div>\n",
       "<style scoped>\n",
       "    .dataframe tbody tr th:only-of-type {\n",
       "        vertical-align: middle;\n",
       "    }\n",
       "\n",
       "    .dataframe tbody tr th {\n",
       "        vertical-align: top;\n",
       "    }\n",
       "\n",
       "    .dataframe thead th {\n",
       "        text-align: right;\n",
       "    }\n",
       "</style>\n",
       "<table border=\"1\" class=\"dataframe\">\n",
       "  <thead>\n",
       "    <tr style=\"text-align: right;\">\n",
       "      <th></th>\n",
       "      <th>B_M</th>\n",
       "      <th>Delincuency_Hist</th>\n",
       "      <th>SectBalance</th>\n",
       "    </tr>\n",
       "  </thead>\n",
       "  <tbody>\n",
       "    <tr>\n",
       "      <th>0</th>\n",
       "      <td>0</td>\n",
       "      <td>0</td>\n",
       "      <td>7889.941385</td>\n",
       "    </tr>\n",
       "    <tr>\n",
       "      <th>1</th>\n",
       "      <td>0</td>\n",
       "      <td>1</td>\n",
       "      <td>7924.840000</td>\n",
       "    </tr>\n",
       "    <tr>\n",
       "      <th>2</th>\n",
       "      <td>0</td>\n",
       "      <td>2</td>\n",
       "      <td>7795.363636</td>\n",
       "    </tr>\n",
       "    <tr>\n",
       "      <th>3</th>\n",
       "      <td>0</td>\n",
       "      <td>3</td>\n",
       "      <td>7767.657682</td>\n",
       "    </tr>\n",
       "    <tr>\n",
       "      <th>4</th>\n",
       "      <td>0</td>\n",
       "      <td>4</td>\n",
       "      <td>7833.160714</td>\n",
       "    </tr>\n",
       "    <tr>\n",
       "      <th>5</th>\n",
       "      <td>1</td>\n",
       "      <td>0</td>\n",
       "      <td>8066.980304</td>\n",
       "    </tr>\n",
       "    <tr>\n",
       "      <th>6</th>\n",
       "      <td>1</td>\n",
       "      <td>1</td>\n",
       "      <td>7736.251412</td>\n",
       "    </tr>\n",
       "    <tr>\n",
       "      <th>7</th>\n",
       "      <td>1</td>\n",
       "      <td>2</td>\n",
       "      <td>8317.176179</td>\n",
       "    </tr>\n",
       "    <tr>\n",
       "      <th>8</th>\n",
       "      <td>1</td>\n",
       "      <td>3</td>\n",
       "      <td>7809.069149</td>\n",
       "    </tr>\n",
       "    <tr>\n",
       "      <th>9</th>\n",
       "      <td>1</td>\n",
       "      <td>4</td>\n",
       "      <td>7869.981250</td>\n",
       "    </tr>\n",
       "  </tbody>\n",
       "</table>\n",
       "</div>"
      ],
      "text/plain": [
       "   B_M  Delincuency_Hist  SectBalance\n",
       "0    0                 0  7889.941385\n",
       "1    0                 1  7924.840000\n",
       "2    0                 2  7795.363636\n",
       "3    0                 3  7767.657682\n",
       "4    0                 4  7833.160714\n",
       "5    1                 0  8066.980304\n",
       "6    1                 1  7736.251412\n",
       "7    1                 2  8317.176179\n",
       "8    1                 3  7809.069149\n",
       "9    1                 4  7869.981250"
      ]
     },
     "execution_count": 215,
     "metadata": {},
     "output_type": "execute_result"
    }
   ],
   "source": [
    "df_gptest = data_1\n",
    "grouped_test1 = df_gptest.groupby(['B_M',\"Delincuency_Hist\"],as_index=False).mean()\n",
    "grouped_test1"
   ]
  },
  {
   "cell_type": "code",
   "execution_count": 216,
   "metadata": {},
   "outputs": [
    {
     "data": {
      "text/html": [
       "<div>\n",
       "<style scoped>\n",
       "    .dataframe tbody tr th:only-of-type {\n",
       "        vertical-align: middle;\n",
       "    }\n",
       "\n",
       "    .dataframe tbody tr th {\n",
       "        vertical-align: top;\n",
       "    }\n",
       "\n",
       "    .dataframe thead tr th {\n",
       "        text-align: left;\n",
       "    }\n",
       "\n",
       "    .dataframe thead tr:last-of-type th {\n",
       "        text-align: right;\n",
       "    }\n",
       "</style>\n",
       "<table border=\"1\" class=\"dataframe\">\n",
       "  <thead>\n",
       "    <tr>\n",
       "      <th></th>\n",
       "      <th colspan=\"5\" halign=\"left\">SectBalance</th>\n",
       "    </tr>\n",
       "    <tr>\n",
       "      <th>Delincuency_Hist</th>\n",
       "      <th>0</th>\n",
       "      <th>1</th>\n",
       "      <th>2</th>\n",
       "      <th>3</th>\n",
       "      <th>4</th>\n",
       "    </tr>\n",
       "    <tr>\n",
       "      <th>B_M</th>\n",
       "      <th></th>\n",
       "      <th></th>\n",
       "      <th></th>\n",
       "      <th></th>\n",
       "      <th></th>\n",
       "    </tr>\n",
       "  </thead>\n",
       "  <tbody>\n",
       "    <tr>\n",
       "      <th>0</th>\n",
       "      <td>7889.941385</td>\n",
       "      <td>7924.840000</td>\n",
       "      <td>7795.363636</td>\n",
       "      <td>7767.657682</td>\n",
       "      <td>7833.160714</td>\n",
       "    </tr>\n",
       "    <tr>\n",
       "      <th>1</th>\n",
       "      <td>8066.980304</td>\n",
       "      <td>7736.251412</td>\n",
       "      <td>8317.176179</td>\n",
       "      <td>7809.069149</td>\n",
       "      <td>7869.981250</td>\n",
       "    </tr>\n",
       "  </tbody>\n",
       "</table>\n",
       "</div>"
      ],
      "text/plain": [
       "                  SectBalance                                         \\\n",
       "Delincuency_Hist            0            1            2            3   \n",
       "B_M                                                                    \n",
       "0                 7889.941385  7924.840000  7795.363636  7767.657682   \n",
       "1                 8066.980304  7736.251412  8317.176179  7809.069149   \n",
       "\n",
       "                               \n",
       "Delincuency_Hist            4  \n",
       "B_M                            \n",
       "0                 7833.160714  \n",
       "1                 7869.981250  "
      ]
     },
     "execution_count": 216,
     "metadata": {},
     "output_type": "execute_result"
    }
   ],
   "source": [
    "grouped_pivot = grouped_test1.pivot(index='B_M',columns='Delincuency_Hist')\n",
    "grouped_pivot"
   ]
  },
  {
   "cell_type": "code",
   "execution_count": 219,
   "metadata": {},
   "outputs": [
    {
     "data": {
      "image/png": "[encoded data removed]",
      "text/plain": [
       "<Figure size 432x288 with 2 Axes>"
      ]
     },
     "metadata": {
      "needs_background": "light"
     },
     "output_type": "display_data"
    }
   ],
   "source": [
    "plt.pcolor(grouped_pivot)\n",
    "plt.colorbar()\n",
    "plt.show()"
   ]
  },
  {
   "cell_type": "code",
   "execution_count": 72,
   "metadata": {},
   "outputs": [],
   "source": [
    "import seaborn as sb"
   ]
  },
  {
   "cell_type": "code",
   "execution_count": 75,
   "metadata": {},
   "outputs": [
    {
     "name": "stderr",
     "output_type": "stream",
     "text": [
      "C:\\Users\\kevin\\anaconda3\\lib\\site-packages\\seaborn\\categorical.py:3717: UserWarning: The `factorplot` function has been renamed to `catplot`. The original name will be removed in a future release. Please update your code. Note that the default `kind` in `factorplot` (`'point'`) has changed `'strip'` in `catplot`.\n",
      "  warnings.warn(msg)\n",
      "C:\\Users\\kevin\\anaconda3\\lib\\site-packages\\seaborn\\_decorators.py:36: FutureWarning: Pass the following variable as a keyword arg: x. From version 0.12, the only valid positional argument will be `data`, and passing other arguments without an explicit keyword will result in an error or misinterpretation.\n",
      "  warnings.warn(\n"
     ]
    },
    {
     "data": {
      "text/plain": [
       "<seaborn.axisgrid.FacetGrid at 0x1ecbf2d7400>"
      ]
     },
     "execution_count": 75,
     "metadata": {},
     "output_type": "execute_result"
    },
    {
     "data": {
      "image/png": "[encoded data removed]",
      "text/plain": [
       "<Figure size 360x360 with 1 Axes>"
      ]
     },
     "metadata": {
      "needs_background": "light"
     },
     "output_type": "display_data"
    }
   ],
   "source": [
    "sb.factorplot('City',data=data_1,kind=\"count\")"
   ]
  },
  {
   "cell_type": "code",
   "execution_count": 74,
   "metadata": {},
   "outputs": [
    {
     "name": "stderr",
     "output_type": "stream",
     "text": [
      "C:\\Users\\kevin\\anaconda3\\lib\\site-packages\\seaborn\\categorical.py:3717: UserWarning: The `factorplot` function has been renamed to `catplot`. The original name will be removed in a future release. Please update your code. Note that the default `kind` in `factorplot` (`'point'`) has changed `'strip'` in `catplot`.\n",
      "  warnings.warn(msg)\n",
      "C:\\Users\\kevin\\anaconda3\\lib\\site-packages\\seaborn\\_decorators.py:36: FutureWarning: Pass the following variable as a keyword arg: x. From version 0.12, the only valid positional argument will be `data`, and passing other arguments without an explicit keyword will result in an error or misinterpretation.\n",
      "  warnings.warn(\n"
     ]
    },
    {
     "data": {
      "text/plain": [
       "<seaborn.axisgrid.FacetGrid at 0x1ecbbd1d790>"
      ]
     },
     "execution_count": 74,
     "metadata": {},
     "output_type": "execute_result"
    },
    {
     "data": {
      "image/png": "[encoded data removed]",
      "text/plain": [
       "<Figure size 360x360 with 1 Axes>"
      ]
     },
     "metadata": {
      "needs_background": "light"
     },
     "output_type": "display_data"
    }
   ],
   "source": [
    "sb.factorplot('B_M',data=data_1,kind=\"count\")"
   ]
  },
  {
   "cell_type": "code",
   "execution_count": 76,
   "metadata": {},
   "outputs": [
    {
     "name": "stderr",
     "output_type": "stream",
     "text": [
      "C:\\Users\\kevin\\anaconda3\\lib\\site-packages\\seaborn\\categorical.py:3717: UserWarning: The `factorplot` function has been renamed to `catplot`. The original name will be removed in a future release. Please update your code. Note that the default `kind` in `factorplot` (`'point'`) has changed `'strip'` in `catplot`.\n",
      "  warnings.warn(msg)\n",
      "C:\\Users\\kevin\\anaconda3\\lib\\site-packages\\seaborn\\_decorators.py:36: FutureWarning: Pass the following variable as a keyword arg: x. From version 0.12, the only valid positional argument will be `data`, and passing other arguments without an explicit keyword will result in an error or misinterpretation.\n",
      "  warnings.warn(\n"
     ]
    },
    {
     "data": {
      "text/plain": [
       "<seaborn.axisgrid.FacetGrid at 0x1ecb49b7f10>"
      ]
     },
     "execution_count": 76,
     "metadata": {},
     "output_type": "execute_result"
    },
    {
     "data": {
      "image/png": "[encoded data removed]",
      "text/plain": [
       "<Figure size 402.375x360 with 1 Axes>"
      ]
     },
     "metadata": {
      "needs_background": "light"
     },
     "output_type": "display_data"
    }
   ],
   "source": [
    "### Comportamiento de  si el crédito es incumplido por la cantidad de mora \n",
    "sb.factorplot('Delincuency_Hist',data=data_1,hue='B_M',kind=\"count\")"
   ]
  },
  {
   "cell_type": "code",
   "execution_count": 222,
   "metadata": {},
   "outputs": [
    {
     "name": "stdout",
     "output_type": "stream",
     "text": [
      "El coeficiente de correlación Pearson is 0.002080543908788235  con un valor P de P = 0.8808033109524105\n"
     ]
    }
   ],
   "source": [
    "### Coeficientes \n",
    "\n",
    "from scipy import stats\n",
    "pearson_coef, p_value = stats.pearsonr(data['Delincuency_Hist'], data['Exp'])\n",
    "print(\"El coeficiente de correlación Pearson es\", pearson_coef, \" con un valor P de P =\", p_value) "
   ]
  },
  {
   "cell_type": "code",
   "execution_count": 225,
   "metadata": {},
   "outputs": [
    {
     "data": {
      "text/plain": [
       "0       590.0\n",
       "2       300.0\n",
       "3       500.0\n",
       "4       500.0\n",
       "9       440.0\n",
       "        ...  \n",
       "5185    290.0\n",
       "5186    300.0\n",
       "5188    400.0\n",
       "5191    350.0\n",
       "5195    400.0\n",
       "Name: Exp, Length: 1718, dtype: float64"
      ]
     },
     "execution_count": 225,
     "metadata": {},
     "output_type": "execute_result"
    }
   ],
   "source": [
    "grouped_test2=data[['Activity', 'Exp']].groupby(['Activity'])\n",
    "grouped_test2.head(2)\n",
    "df_gptest.head()\n",
    "grouped_test2.get_group('Empleado')['Exp']"
   ]
  },
  {
   "cell_type": "code",
   "execution_count": 229,
   "metadata": {},
   "outputs": [
    {
     "name": "stdout",
     "output_type": "stream",
     "text": [
      "Resultados ANOVA: F= 0.46635969082142226 , P = 0.6273078799554235\n"
     ]
    }
   ],
   "source": [
    "f_val, p_val = stats.f_oneway(grouped_test2.get_group('Pensionado')['Exp'], grouped_test2.get_group('independiente')['Exp'], grouped_test2.get_group('Empleado')['Exp'])  \n",
    " \n",
    "print( \"Resultados ANOVA: F=\", f_val, \", P =\", p_val) "
   ]
  },
  {
   "cell_type": "markdown",
   "metadata": {},
   "source": [
    "### Ciudad "
   ]
  },
  {
   "cell_type": "code",
   "execution_count": 191,
   "metadata": {},
   "outputs": [
    {
     "name": "stderr",
     "output_type": "stream",
     "text": [
      "C:\\Users\\kevin\\anaconda3\\lib\\site-packages\\seaborn\\categorical.py:3717: UserWarning: The `factorplot` function has been renamed to `catplot`. The original name will be removed in a future release. Please update your code. Note that the default `kind` in `factorplot` (`'point'`) has changed `'strip'` in `catplot`.\n",
      "  warnings.warn(msg)\n",
      "C:\\Users\\kevin\\anaconda3\\lib\\site-packages\\seaborn\\_decorators.py:36: FutureWarning: Pass the following variable as a keyword arg: x. From version 0.12, the only valid positional argument will be `data`, and passing other arguments without an explicit keyword will result in an error or misinterpretation.\n",
      "  warnings.warn(\n",
      "C:\\Users\\kevin\\anaconda3\\lib\\site-packages\\seaborn\\categorical.py:3717: UserWarning: The `factorplot` function has been renamed to `catplot`. The original name will be removed in a future release. Please update your code. Note that the default `kind` in `factorplot` (`'point'`) has changed `'strip'` in `catplot`.\n",
      "  warnings.warn(msg)\n",
      "C:\\Users\\kevin\\anaconda3\\lib\\site-packages\\seaborn\\_decorators.py:36: FutureWarning: Pass the following variable as a keyword arg: x. From version 0.12, the only valid positional argument will be `data`, and passing other arguments without an explicit keyword will result in an error or misinterpretation.\n",
      "  warnings.warn(\n"
     ]
    },
    {
     "data": {
      "text/plain": [
       "<seaborn.axisgrid.FacetGrid at 0x1eccaaf0850>"
      ]
     },
     "execution_count": 191,
     "metadata": {},
     "output_type": "execute_result"
    },
    {
     "data": {
      "image/png": "[encoded data removed]",
      "text/plain": [
       "<Figure size 402.375x360 with 1 Axes>"
      ]
     },
     "metadata": {
      "needs_background": "light"
     },
     "output_type": "display_data"
    },
    {
     "data": {
      "image/png": "[encoded data removed]",
      "text/plain": [
       "<Figure size 454.25x360 with 1 Axes>"
      ]
     },
     "metadata": {
      "needs_background": "light"
     },
     "output_type": "display_data"
    }
   ],
   "source": [
    "### Comportamiento de  si el crédito es incumplido por ciudad \n",
    "sb.factorplot('City',data=data_1,hue='B_M',kind=\"count\")\n",
    "### comportamiento por el nivel de mora \n",
    "sb.factorplot('City',data=data_1,hue='Delincuency_Hist',kind=\"count\")"
   ]
  },
  {
   "cell_type": "markdown",
   "metadata": {},
   "source": [
    "## Parte 2\n",
    "\n",
    "Proponga por lo menos tres modelos o alternativas que permitan generar la clasificación de los clientes cumplidos e incumplidos, realice interpretaciones de los modelos mostrando los resultados que considere necesarios y su respectivo análisis. Finalmente compare el ajuste y la efectividad de los modelos."
   ]
  },
  {
   "cell_type": "code",
   "execution_count": 146,
   "metadata": {},
   "outputs": [
    {
     "name": "stderr",
     "output_type": "stream",
     "text": [
      "WARNING (theano.configdefaults): g++ not available, if using conda: `conda install m2w64-toolchain`\n",
      "WARNING (theano.configdefaults): g++ not detected ! Theano will be unable to execute optimized C-implementations (for both CPU and GPU) and will default to Python implementations. Performance will be severely degraded. To remove this warning, set Theano flags cxx to an empty string.\n",
      "WARNING (theano.tensor.blas): Using NumPy C-API based implementation for BLAS functions.\n"
     ]
    }
   ],
   "source": [
    "from sklearn.tree import DecisionTreeClassifier\n",
    "import numpy as np\n",
    "from sklearn.tree import DecisionTreeRegressor\n",
    "import pymc3 as pm"
   ]
  },
  {
   "cell_type": "code",
   "execution_count": null,
   "metadata": {},
   "outputs": [],
   "source": [
    "### Metodo de cladificacion 1"
   ]
  },
  {
   "cell_type": "code",
   "execution_count": 127,
   "metadata": {},
   "outputs": [
    {
     "name": "stdout",
     "output_type": "stream",
     "text": [
      "[205854.46245645 205854.46245645 205854.46245645 ... 205854.46245645\n",
      " 205854.46245645 205854.46245645]\n"
     ]
    }
   ],
   "source": [
    "## ruido gausiano\n",
    "def f(x):\n",
    "    y = 0.1*np.square(x) + 0.2*np.random.randn(x.size)\n",
    "    return y\n",
    "x = data.Income\n",
    "y = f(x) \n",
    "tree = DecisionTreeRegressor(max_depth=5, random_state=42) \n",
    "tree.fit(x.values.reshape(-1,1), y)\n",
    "x2 = data.Exp.values.reshape(-1,1)\n",
    "print( tree.predict(x2))"
   ]
  },
  {
   "cell_type": "code",
   "execution_count": null,
   "metadata": {},
   "outputs": [],
   "source": [
    "### Metodo de clasificacio 2"
   ]
  },
  {
   "cell_type": "code",
   "execution_count": 136,
   "metadata": {},
   "outputs": [
    {
     "data": {
      "text/plain": [
       "5197"
      ]
     },
     "execution_count": 136,
     "metadata": {},
     "output_type": "execute_result"
    }
   ],
   "source": [
    "n = data.Exp.count()\n",
    "n"
   ]
  },
  {
   "cell_type": "code",
   "execution_count": 141,
   "metadata": {},
   "outputs": [
    {
     "data": {
      "text/plain": [
       "2627"
      ]
     },
     "execution_count": 141,
     "metadata": {},
     "output_type": "execute_result"
    }
   ],
   "source": [
    "c = data[data['B_M'] != 1]\n",
    "ca=c.B_M.count()\n",
    "ca"
   ]
  },
  {
   "cell_type": "code",
   "execution_count": 147,
   "metadata": {},
   "outputs": [],
   "source": [
    "niter = 2000\n",
    "with pm.Model() as modelo:\n",
    "    # a priori\n",
    "    p = pm.Beta('p', alpha=2, beta=2)\n",
    "    # likelihood\n",
    "    y = pm.Binomial('y', n=n, p=p, observed=ca)"
   ]
  },
  {
   "cell_type": "code",
   "execution_count": 151,
   "metadata": {},
   "outputs": [
    {
     "name": "stderr",
     "output_type": "stream",
     "text": [
      "C:\\Users\\kevin\\AppData\\Local\\Temp/ipykernel_14988/1740282551.py:2: FutureWarning: In v4.0, pm.sample will return an `arviz.InferenceData` object instead of a `MultiTrace` by default. You can pass return_inferencedata=True or return_inferencedata=False to be safe and silence this warning.\n",
      "  trace = pm.sample(niter, cores=5)\n",
      "Auto-assigning NUTS sampler...\n",
      "Initializing NUTS using jitter+adapt_diag...\n",
      "Multiprocess sampling (5 chains in 5 jobs)\n",
      "NUTS: [p]\n"
     ]
    },
    {
     "data": {
      "text/html": [
       "\n",
       "<style>\n",
       "    /* Turns off some styling */\n",
       "    progress {\n",
       "        /* gets rid of default border in Firefox and Opera. */\n",
       "        border: none;\n",
       "        /* Needs to be in here for Safari polyfill so background images work as expected. */\n",
       "        background-size: auto;\n",
       "    }\n",
       "    .progress-bar-interrupted, .progress-bar-interrupted::-webkit-progress-bar {\n",
       "        background: #F44336;\n",
       "    }\n",
       "</style>\n"
      ],
      "text/plain": [
       "<IPython.core.display.HTML object>"
      ]
     },
     "metadata": {},
     "output_type": "display_data"
    },
    {
     "data": {
      "text/html": [
       "\n",
       "    <div>\n",
       "      <progress value='15000' class='' max='15000' style='width:300px; height:20px; vertical-align: middle;'></progress>\n",
       "      100.00% [15000/15000 00:20<00:00 Sampling 5 chains, 0 divergences]\n",
       "    </div>\n",
       "    "
      ],
      "text/plain": [
       "<IPython.core.display.HTML object>"
      ]
     },
     "metadata": {},
     "output_type": "display_data"
    },
    {
     "name": "stderr",
     "output_type": "stream",
     "text": [
      "Sampling 5 chains for 1_000 tune and 2_000 draw iterations (5_000 + 10_000 draws total) took 49 seconds.\n"
     ]
    }
   ],
   "source": [
    "with modelo:\n",
    "    trace = pm.sample(niter, cores=5)"
   ]
  },
  {
   "cell_type": "code",
   "execution_count": 154,
   "metadata": {},
   "outputs": [
    {
     "name": "stderr",
     "output_type": "stream",
     "text": [
      "Got error No model on context stack. trying to find log_likelihood in translation.\n",
      "C:\\Users\\kevin\\anaconda3\\lib\\site-packages\\arviz\\data\\io_pymc3_3x.py:98: FutureWarning: Using `from_pymc3` without the model will be deprecated in a future release. Not using the model will return less accurate and less useful results. Make sure you use the model argument or call from_pymc3 within a model context.\n",
      "  warnings.warn(\n"
     ]
    },
    {
     "data": {
      "text/html": [
       "<div>\n",
       "<style scoped>\n",
       "    .dataframe tbody tr th:only-of-type {\n",
       "        vertical-align: middle;\n",
       "    }\n",
       "\n",
       "    .dataframe tbody tr th {\n",
       "        vertical-align: top;\n",
       "    }\n",
       "\n",
       "    .dataframe thead th {\n",
       "        text-align: right;\n",
       "    }\n",
       "</style>\n",
       "<table border=\"1\" class=\"dataframe\">\n",
       "  <thead>\n",
       "    <tr style=\"text-align: right;\">\n",
       "      <th></th>\n",
       "      <th>mean</th>\n",
       "      <th>sd</th>\n",
       "      <th>hdi_3%</th>\n",
       "      <th>hdi_97%</th>\n",
       "      <th>mcse_mean</th>\n",
       "      <th>mcse_sd</th>\n",
       "      <th>ess_bulk</th>\n",
       "      <th>ess_tail</th>\n",
       "      <th>r_hat</th>\n",
       "    </tr>\n",
       "  </thead>\n",
       "  <tbody>\n",
       "    <tr>\n",
       "      <th>p</th>\n",
       "      <td>0.506</td>\n",
       "      <td>0.007</td>\n",
       "      <td>0.493</td>\n",
       "      <td>0.519</td>\n",
       "      <td>0.0</td>\n",
       "      <td>0.0</td>\n",
       "      <td>3986.0</td>\n",
       "      <td>6601.0</td>\n",
       "      <td>1.0</td>\n",
       "    </tr>\n",
       "  </tbody>\n",
       "</table>\n",
       "</div>"
      ],
      "text/plain": [
       "    mean     sd  hdi_3%  hdi_97%  mcse_mean  mcse_sd  ess_bulk  ess_tail  \\\n",
       "p  0.506  0.007   0.493    0.519        0.0      0.0    3986.0    6601.0   \n",
       "\n",
       "   r_hat  \n",
       "p    1.0  "
      ]
     },
     "execution_count": 154,
     "metadata": {},
     "output_type": "execute_result"
    }
   ],
   "source": [
    "pm.summary(trace)"
   ]
  },
  {
   "cell_type": "code",
   "execution_count": 157,
   "metadata": {},
   "outputs": [],
   "source": [
    "### Metodo de cladificacion 3"
   ]
  },
  {
   "cell_type": "code",
   "execution_count": 158,
   "metadata": {},
   "outputs": [],
   "source": [
    "import matplotlib.pyplot as plt \n",
    "import numpy as np \n",
    "import pandas as pd\n",
    "import scipy.stats as stats\n",
    "import seaborn as sns\n",
    "import pymc3 as pm\n",
    "import theano.tensor as tt\n",
    "from sklearn import datasets\n",
    "from sklearn.naive_bayes import GaussianNB\n",
    "from sklearn.metrics import confusion_matrix\n",
    "from sklearn.model_selection import train_test_split"
   ]
  },
  {
   "cell_type": "code",
   "execution_count": 200,
   "metadata": {},
   "outputs": [],
   "source": [
    "\n",
    "X = data.Exp.values.reshape(-1, 1)\n",
    "y = data.OtherIncome"
   ]
  },
  {
   "cell_type": "code",
   "execution_count": 201,
   "metadata": {},
   "outputs": [],
   "source": [
    "\n",
    "X_train, X_test, y_train, y_test = train_test_split(X, y, test_size=0.7, \n",
    "                                                    random_state=0)\n"
   ]
  },
  {
   "cell_type": "code",
   "execution_count": 202,
   "metadata": {},
   "outputs": [],
   "source": [
    "# inicializar el clasificador Naive Bayes\n",
    "bayes_ingenuo = GaussianNB()\n",
    "\n",
    "# predicción \n",
    "y_pred = bayes_ingenuo.fit(X_train, y_train).predict(X_test)"
   ]
  },
  {
   "cell_type": "code",
   "execution_count": 188,
   "metadata": {},
   "outputs": [
    {
     "name": "stdout",
     "output_type": "stream",
     "text": [
      "Cantidad de errores de clasificación sobre un total de 3638 casos: 926\n",
      "Efectividad del algoritmo:  0.75\n"
     ]
    }
   ],
   "source": [
    "cnf_matrix = confusion_matrix(y_test, y_pred)\n",
    "print(\"Cantidad de errores de clasificación sobre un total de {0} casos: {1}\"\n",
    "      .format(y_test.shape[0],(y_test != y_pred).sum()))\n",
    "print(\"Efectividad del algoritmo: {0: .2f}\"\n",
    "      .format(1 - (y_test != y_pred).sum()/y_test.shape[0]))"
   ]
  },
  {
   "cell_type": "code",
   "execution_count": 189,
   "metadata": {},
   "outputs": [
    {
     "data": {
      "image/png": "[encoded data removed]",
      "text/plain": [
       "<Figure size 432x288 with 1 Axes>"
      ]
     },
     "metadata": {
      "needs_background": "light"
     },
     "output_type": "display_data"
    }
   ],
   "source": [
    "sb.heatmap(cnf_matrix.T, square=True, annot=True, fmt='d', cbar=False)\n",
    "plt.xlabel('Clase verdadera')\n",
    "plt.ylabel('Clase predecida')\n",
    "plt.title('Matriz de Confusión')\n",
    "plt.show()"
   ]
  },
  {
   "cell_type": "markdown",
   "metadata": {},
   "source": [
    "## Parte 3\n",
    "Realice un análisis del incumplimiento crediticio de los clientes y postule las principales conclusiones."
   ]
  },
  {
   "cell_type": "markdown",
   "metadata": {},
   "source": [
    "la principal conclusión con la segun el metodo numero 2 es que se puede tener un ingreso de una persona se puede tener una probabilidad de 0.52 de que sea inucumplido a la hora de realizar el pago correspondiente a tiempo, se muestra además que la correlación más alta vendría a ser SectBalance con Income  lo cual muestra que estas variables puede ser como codependientes con respecto a  realizar un modelo de regresión, además como se evidencio en el método 3 de bayes se indica que se tiene una efectividad del 75% para esta 2 variables mostrando que para no tener una correlación tan alta es bastante significativa dicha efectividad y los casos descartado fueron pocos esto en términos estadísticos ademas de esto se realizo una pequeña anova para mirar el comportamiento de la actividad de la persona con los ingresos y este tuvo un p valor bastante grande.\n",
    "\n"
   ]
  },
  {
   "cell_type": "code",
   "execution_count": null,
   "metadata": {},
   "outputs": [],
   "source": []
  }
 ],
 "metadata": {
  "colab": {
   "collapsed_sections": [
    "MC2eM5_Nxjki",
    "HY5XfFyBxYsS",
    "dUixmKh2x614"
   ],
   "name": "Prueba Python.ipynb",
   "provenance": []
  },
  "kernelspec": {
   "display_name": "Python 3 (ipykernel)",
   "language": "python",
   "name": "python3"
  },
  "language_info": {
   "codemirror_mode": {
    "name": "ipython",
    "version": 3
   },
   "file_extension": ".py",
   "mimetype": "text/x-python",
   "name": "python",
   "nbconvert_exporter": "python",
   "pygments_lexer": "ipython3",
   "version": "3.9.7"
  }
 },
 "nbformat": 4,
 "nbformat_minor": 1
}
